{
  "nbformat": 4,
  "nbformat_minor": 0,
  "metadata": {
    "colab": {
      "name": "Celsius to Fahrenheit Machine Learning Model.ipynb",
      "provenance": []
    },
    "kernelspec": {
      "name": "python3",
      "display_name": "Python 3"
    },
    "language_info": {
      "name": "python"
    },
    "accelerator": "GPU"
  },
  "cells": [
    {
      "cell_type": "markdown",
      "metadata": {
        "id": "HggBq0zJCcsE"
      },
      "source": [
        "Setting Up Env"
      ]
    },
    {
      "cell_type": "code",
      "metadata": {
        "id": "rnn3NTEOAsux"
      },
      "source": [
        "import tensorflow as tf #use only to display errors\n",
        "import numpy as np\n",
        "import logging\n",
        "logger = tf.get_logger()\n",
        "logger.setLevel(logging.ERROR)"
      ],
      "execution_count": null,
      "outputs": []
    },
    {
      "cell_type": "markdown",
      "metadata": {
        "id": "9uQH-XSF_8oI"
      },
      "source": [
        "Give TensorFlow some Celsius values and Corresponding Fahrenheit Values\n",
        "[-40, -10 , 0 , 8 , 15 , 22 , 38] => [-40, 14, 32, 46 , 59 , 72 , 100] **(Approx)** "
      ]
    },
    {
      "cell_type": "code",
      "metadata": {
        "id": "MjKcMhGSCt_D"
      },
      "source": [
        "#q is for question , a for answer\n",
        "celsius_q = np.array([-40,-10,0,8,15,22,38], dtype=float)\n",
        "farhenheit_a = np.array([-40,14,32,46,59,72,100] , dtype=float)\n",
        "\n",
        "for i,c in enumerate(celsius_q):\n",
        "  print('Celsius : {} , Fahrenheit : {}'.format(c, farhenheit_a[i]))"
      ],
      "execution_count": null,
      "outputs": []
    },
    {
      "cell_type": "markdown",
      "metadata": {
        "id": "_cbt-lCnHjkn"
      },
      "source": [
        "Creating first (and only) layer"
      ]
    },
    {
      "cell_type": "code",
      "metadata": {
        "id": "kYisvC-1Htng"
      },
      "source": [
        "layer0 = tf.keras.layers.Dense(input_shape = [1] , units = 1)"
      ],
      "execution_count": 6,
      "outputs": []
    },
    {
      "cell_type": "markdown",
      "metadata": {
        "id": "JGIROrD3IIQk"
      },
      "source": [
        "Assembling layer(s) into model"
      ]
    },
    {
      "cell_type": "code",
      "metadata": {
        "id": "VajSQudwIP_G"
      },
      "source": [
        "model = tf.keras.Sequential([layer0])"
      ],
      "execution_count": 7,
      "outputs": []
    },
    {
      "cell_type": "markdown",
      "metadata": {
        "id": "WwkhKTNqJcqm"
      },
      "source": [
        "Compiling model with loss and optimizers"
      ]
    },
    {
      "cell_type": "code",
      "metadata": {
        "id": "PUR_8o-ZJise"
      },
      "source": [
        "model.compile(loss='mean_squared_error',optimizer = tf.keras.optimizers.Adam(0.1))"
      ],
      "execution_count": 8,
      "outputs": []
    },
    {
      "cell_type": "markdown",
      "metadata": {
        "id": "0ry0Bm2QLZud"
      },
      "source": [
        "Train the model"
      ]
    },
    {
      "cell_type": "code",
      "metadata": {
        "colab": {
          "base_uri": "https://localhost:8080/"
        },
        "id": "dNi0JoqJLyUp",
        "outputId": "a46d2976-1ca9-490d-cf1e-d9597ff97f29"
      },
      "source": [
        "history = model.fit(celsius_q, farhenheit_a , epochs=500 , verbose = False)\n",
        "print('Successfully Trained')"
      ],
      "execution_count": 9,
      "outputs": [
        {
          "output_type": "stream",
          "name": "stdout",
          "text": [
            "Successfully Trained\n"
          ]
        }
      ]
    },
    {
      "cell_type": "markdown",
      "metadata": {
        "id": "dm7RzeQjMYlx"
      },
      "source": [
        "Checking the Graph"
      ]
    },
    {
      "cell_type": "code",
      "metadata": {
        "colab": {
          "base_uri": "https://localhost:8080/",
          "height": 296
        },
        "id": "D0SD1HnhMdrH",
        "outputId": "c8cba888-33d9-4969-950f-50474107a6c9"
      },
      "source": [
        "import matplotlib.pyplot as plt\n",
        "plt.xlabel('Epoch')\n",
        "plt.ylabel('Loss')\n",
        "plt.plot(history.history['loss'])"
      ],
      "execution_count": 10,
      "outputs": [
        {
          "output_type": "execute_result",
          "data": {
            "text/plain": [
              "[<matplotlib.lines.Line2D at 0x7fb6b858a750>]"
            ]
          },
          "metadata": {},
          "execution_count": 10
        },
        {
          "output_type": "display_data",
          "data": {
            "image/png": "[encoded data removed]",
            "text/plain": [
              "<Figure size 432x288 with 1 Axes>"
            ]
          },
          "metadata": {
            "needs_background": "light"
          }
        }
      ]
    },
    {
      "cell_type": "markdown",
      "metadata": {
        "id": "nXAt4SV4NFNO"
      },
      "source": [
        "Predict the next values using model.predict"
      ]
    },
    {
      "cell_type": "markdown",
      "metadata": {
        "id": "bumWXg7JNvZE"
      },
      "source": [
        ""
      ]
    },
    {
      "cell_type": "code",
      "metadata": {
        "colab": {
          "base_uri": "https://localhost:8080/"
        },
        "id": "1tOy2FMoNYx3",
        "outputId": "cd0998e3-4329-4211-9a2d-556007855125"
      },
      "source": [
        "print(model.predict([100.0]))"
      ],
      "execution_count": 11,
      "outputs": [
        {
          "output_type": "stream",
          "name": "stdout",
          "text": [
            "[[211.30954]]\n"
          ]
        }
      ]
    },
    {
      "cell_type": "markdown",
      "metadata": {
        "id": "fgbj6kNWN0fv"
      },
      "source": [
        "Checking the layer weights"
      ]
    },
    {
      "cell_type": "code",
      "metadata": {
        "colab": {
          "base_uri": "https://localhost:8080/"
        },
        "id": "QY5czvAsN4JE",
        "outputId": "34b05706-9c5b-46c2-a497-169e530d9d98"
      },
      "source": [
        "print('Weights of layer0 are {}'.format(layer0.get_weights()))"
      ],
      "execution_count": 12,
      "outputs": [
        {
          "output_type": "stream",
          "name": "stdout",
          "text": [
            "Weights of layer0 are [array([[1.8243868]], dtype=float32), array([28.870848], dtype=float32)]\n"
          ]
        }
      ]
    }
  ]
}